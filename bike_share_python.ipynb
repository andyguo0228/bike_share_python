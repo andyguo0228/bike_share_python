{
 "cells": [
  {
   "cell_type": "markdown",
   "metadata": {},
   "source": [
    "# Bike Share Analysis in Python\n",
    "I learned a lot working on the bike share case study for my Google Data Analytics certificate. I got to apply the skills I learned from the course and experienced first hand how data can impact decisions. Working on the project allowed me to develop a strong foundation with R including how to wrangle, clean, and visualize data. \n",
    "I know that Python is another programming language used to analyze data and I want to redo the same project to demonstrate my ability with Python as well as to have a better understanding of the differences between R and Python. "
   ]
  },
  {
   "cell_type": "markdown",
   "metadata": {},
   "source": [
    "## Background\n",
    "A little background on the scenario and data:\n",
    "\n",
    "Cyclistic is a bike-share company in Chicago with a fleet of 5,824 geotracked bicycles and a network of 692 stations. They offer 3 pricing plans: single-ride passes, full-day passes, and annual memberships. Customers who purchase single-ride or full-day passes are referred to as casual riders and customers who purchase annual memberships are referred to as Cyclistic members. The company determined that annual members are more profitable than casual riders and is aiming to create a marketing campaign to maximize the number of annual members by converting casual riders.\n",
    "\n",
    "**Key stakeholder**: Lily Moreno, the director of marketing responsible for developing campaigns to promote bike-share program.\n",
    "\n",
    "**Business task**: How do annual members and casual riders use Cyclistic bikes differently?"
   ]
  },
  {
   "cell_type": "code",
   "execution_count": 1,
   "metadata": {},
   "outputs": [],
   "source": [
    "# Setup envionment and import libraries\n",
    "from matplotlib import pyplot as plt \n",
    "import pandas as pd\n",
    "import seaborn as sns\n",
    "import numpy as np\n",
    "import glob\n",
    "from pandas.api.types import CategoricalDtype\n",
    "\n",
    "# Full output for each cell\n",
    "from IPython.core.interactiveshell import InteractiveShell\n",
    "InteractiveShell.ast_node_interactivity = \"all\""
   ]
  },
  {
   "cell_type": "markdown",
   "metadata": {},
   "source": [
    "## Import Data\n",
    "Proxy data from a similar bike sharing company called Divvy was used. The data can be downloaded at <a href=\"https://divvy-tripdata.s3.amazonaws.com/index.html\" target=\"_blank\">https://divvy-tripdata.s3.amazonaws.com/index.html</a>\n",
    "12 months of data (12 CSV files) were downloaded and merged into one dataframe.\n",
    "The dataframe was previewed to confirm merge was sucessful and to examine column headers and data types. \n",
    "\n",
    "* There are 13 rows and 5860776 rows\n",
    "* 4 float64 and 4 object data types"
   ]
  },
  {
   "cell_type": "code",
   "execution_count": 26,
   "metadata": {},
   "outputs": [
    {
     "data": {
      "text/html": [
       "<div>\n",
       "<style scoped>\n",
       "    .dataframe tbody tr th:only-of-type {\n",
       "        vertical-align: middle;\n",
       "    }\n",
       "\n",
       "    .dataframe tbody tr th {\n",
       "        vertical-align: top;\n",
       "    }\n",
       "\n",
       "    .dataframe thead th {\n",
       "        text-align: right;\n",
       "    }\n",
       "</style>\n",
       "<table border=\"1\" class=\"dataframe\">\n",
       "  <thead>\n",
       "    <tr style=\"text-align: right;\">\n",
       "      <th></th>\n",
       "      <th>ride_id</th>\n",
       "      <th>rideable_type</th>\n",
       "      <th>started_at</th>\n",
       "      <th>ended_at</th>\n",
       "      <th>start_station_name</th>\n",
       "      <th>start_station_id</th>\n",
       "      <th>end_station_name</th>\n",
       "      <th>end_station_id</th>\n",
       "      <th>start_lat</th>\n",
       "      <th>start_lng</th>\n",
       "      <th>end_lat</th>\n",
       "      <th>end_lng</th>\n",
       "      <th>member_casual</th>\n",
       "    </tr>\n",
       "  </thead>\n",
       "  <tbody>\n",
       "    <tr>\n",
       "      <th>0</th>\n",
       "      <td>99FEC93BA843FB20</td>\n",
       "      <td>electric_bike</td>\n",
       "      <td>2021-06-13 14:31:28</td>\n",
       "      <td>2021-06-13 14:34:11</td>\n",
       "      <td>NaN</td>\n",
       "      <td>NaN</td>\n",
       "      <td>NaN</td>\n",
       "      <td>NaN</td>\n",
       "      <td>41.800000</td>\n",
       "      <td>-87.590000</td>\n",
       "      <td>41.80</td>\n",
       "      <td>-87.60</td>\n",
       "      <td>member</td>\n",
       "    </tr>\n",
       "    <tr>\n",
       "      <th>1</th>\n",
       "      <td>06048DCFC8520CAF</td>\n",
       "      <td>electric_bike</td>\n",
       "      <td>2021-06-04 11:18:02</td>\n",
       "      <td>2021-06-04 11:24:19</td>\n",
       "      <td>NaN</td>\n",
       "      <td>NaN</td>\n",
       "      <td>NaN</td>\n",
       "      <td>NaN</td>\n",
       "      <td>41.790000</td>\n",
       "      <td>-87.590000</td>\n",
       "      <td>41.80</td>\n",
       "      <td>-87.60</td>\n",
       "      <td>member</td>\n",
       "    </tr>\n",
       "    <tr>\n",
       "      <th>2</th>\n",
       "      <td>9598066F68045DF2</td>\n",
       "      <td>electric_bike</td>\n",
       "      <td>2021-06-04 09:49:35</td>\n",
       "      <td>2021-06-04 09:55:34</td>\n",
       "      <td>NaN</td>\n",
       "      <td>NaN</td>\n",
       "      <td>NaN</td>\n",
       "      <td>NaN</td>\n",
       "      <td>41.800000</td>\n",
       "      <td>-87.600000</td>\n",
       "      <td>41.79</td>\n",
       "      <td>-87.59</td>\n",
       "      <td>member</td>\n",
       "    </tr>\n",
       "    <tr>\n",
       "      <th>3</th>\n",
       "      <td>B03C0FE48C412214</td>\n",
       "      <td>electric_bike</td>\n",
       "      <td>2021-06-03 19:56:05</td>\n",
       "      <td>2021-06-03 20:21:55</td>\n",
       "      <td>NaN</td>\n",
       "      <td>NaN</td>\n",
       "      <td>NaN</td>\n",
       "      <td>NaN</td>\n",
       "      <td>41.780000</td>\n",
       "      <td>-87.580000</td>\n",
       "      <td>41.80</td>\n",
       "      <td>-87.60</td>\n",
       "      <td>member</td>\n",
       "    </tr>\n",
       "    <tr>\n",
       "      <th>4</th>\n",
       "      <td>B9EEA89F8FEE73B7</td>\n",
       "      <td>electric_bike</td>\n",
       "      <td>2021-06-04 14:05:51</td>\n",
       "      <td>2021-06-04 14:09:59</td>\n",
       "      <td>NaN</td>\n",
       "      <td>NaN</td>\n",
       "      <td>NaN</td>\n",
       "      <td>NaN</td>\n",
       "      <td>41.800000</td>\n",
       "      <td>-87.590000</td>\n",
       "      <td>41.79</td>\n",
       "      <td>-87.59</td>\n",
       "      <td>member</td>\n",
       "    </tr>\n",
       "    <tr>\n",
       "      <th>...</th>\n",
       "      <td>...</td>\n",
       "      <td>...</td>\n",
       "      <td>...</td>\n",
       "      <td>...</td>\n",
       "      <td>...</td>\n",
       "      <td>...</td>\n",
       "      <td>...</td>\n",
       "      <td>...</td>\n",
       "      <td>...</td>\n",
       "      <td>...</td>\n",
       "      <td>...</td>\n",
       "      <td>...</td>\n",
       "      <td>...</td>\n",
       "    </tr>\n",
       "    <tr>\n",
       "      <th>634853</th>\n",
       "      <td>8891BA0053ECEC4F</td>\n",
       "      <td>electric_bike</td>\n",
       "      <td>2022-05-27 22:00:02</td>\n",
       "      <td>2022-05-27 22:07:01</td>\n",
       "      <td>Clark St &amp; Newport St</td>\n",
       "      <td>632</td>\n",
       "      <td>NaN</td>\n",
       "      <td>NaN</td>\n",
       "      <td>41.944557</td>\n",
       "      <td>-87.654830</td>\n",
       "      <td>41.92</td>\n",
       "      <td>-87.65</td>\n",
       "      <td>member</td>\n",
       "    </tr>\n",
       "    <tr>\n",
       "      <th>634854</th>\n",
       "      <td>47D8B5FBCADECFC1</td>\n",
       "      <td>electric_bike</td>\n",
       "      <td>2022-05-15 16:05:39</td>\n",
       "      <td>2022-05-15 16:44:12</td>\n",
       "      <td>Clark St &amp; Newport St</td>\n",
       "      <td>632</td>\n",
       "      <td>NaN</td>\n",
       "      <td>NaN</td>\n",
       "      <td>41.944479</td>\n",
       "      <td>-87.654758</td>\n",
       "      <td>41.92</td>\n",
       "      <td>-87.76</td>\n",
       "      <td>member</td>\n",
       "    </tr>\n",
       "    <tr>\n",
       "      <th>634855</th>\n",
       "      <td>AA8D16CF38B40703</td>\n",
       "      <td>electric_bike</td>\n",
       "      <td>2022-05-21 10:10:13</td>\n",
       "      <td>2022-05-21 10:26:09</td>\n",
       "      <td>Francisco Ave &amp; Bloomingdale Ave</td>\n",
       "      <td>429</td>\n",
       "      <td>NaN</td>\n",
       "      <td>NaN</td>\n",
       "      <td>41.910000</td>\n",
       "      <td>-87.700000</td>\n",
       "      <td>41.92</td>\n",
       "      <td>-87.66</td>\n",
       "      <td>casual</td>\n",
       "    </tr>\n",
       "    <tr>\n",
       "      <th>634856</th>\n",
       "      <td>897EBFD44F329E0A</td>\n",
       "      <td>electric_bike</td>\n",
       "      <td>2022-05-12 07:53:58</td>\n",
       "      <td>2022-05-12 08:01:18</td>\n",
       "      <td>Francisco Ave &amp; Bloomingdale Ave</td>\n",
       "      <td>429</td>\n",
       "      <td>NaN</td>\n",
       "      <td>NaN</td>\n",
       "      <td>41.910000</td>\n",
       "      <td>-87.700000</td>\n",
       "      <td>41.90</td>\n",
       "      <td>-87.69</td>\n",
       "      <td>member</td>\n",
       "    </tr>\n",
       "    <tr>\n",
       "      <th>634857</th>\n",
       "      <td>AAC23AB89E8A7733</td>\n",
       "      <td>electric_bike</td>\n",
       "      <td>2022-05-11 21:14:28</td>\n",
       "      <td>2022-05-11 21:18:16</td>\n",
       "      <td>Clark St &amp; Newport St</td>\n",
       "      <td>632</td>\n",
       "      <td>NaN</td>\n",
       "      <td>NaN</td>\n",
       "      <td>41.944567</td>\n",
       "      <td>-87.654802</td>\n",
       "      <td>41.94</td>\n",
       "      <td>-87.65</td>\n",
       "      <td>member</td>\n",
       "    </tr>\n",
       "  </tbody>\n",
       "</table>\n",
       "<p>5860776 rows × 13 columns</p>\n",
       "</div>"
      ],
      "text/plain": [
       "                 ride_id  rideable_type           started_at  \\\n",
       "0       99FEC93BA843FB20  electric_bike  2021-06-13 14:31:28   \n",
       "1       06048DCFC8520CAF  electric_bike  2021-06-04 11:18:02   \n",
       "2       9598066F68045DF2  electric_bike  2021-06-04 09:49:35   \n",
       "3       B03C0FE48C412214  electric_bike  2021-06-03 19:56:05   \n",
       "4       B9EEA89F8FEE73B7  electric_bike  2021-06-04 14:05:51   \n",
       "...                  ...            ...                  ...   \n",
       "634853  8891BA0053ECEC4F  electric_bike  2022-05-27 22:00:02   \n",
       "634854  47D8B5FBCADECFC1  electric_bike  2022-05-15 16:05:39   \n",
       "634855  AA8D16CF38B40703  electric_bike  2022-05-21 10:10:13   \n",
       "634856  897EBFD44F329E0A  electric_bike  2022-05-12 07:53:58   \n",
       "634857  AAC23AB89E8A7733  electric_bike  2022-05-11 21:14:28   \n",
       "\n",
       "                   ended_at                start_station_name  \\\n",
       "0       2021-06-13 14:34:11                               NaN   \n",
       "1       2021-06-04 11:24:19                               NaN   \n",
       "2       2021-06-04 09:55:34                               NaN   \n",
       "3       2021-06-03 20:21:55                               NaN   \n",
       "4       2021-06-04 14:09:59                               NaN   \n",
       "...                     ...                               ...   \n",
       "634853  2022-05-27 22:07:01             Clark St & Newport St   \n",
       "634854  2022-05-15 16:44:12             Clark St & Newport St   \n",
       "634855  2022-05-21 10:26:09  Francisco Ave & Bloomingdale Ave   \n",
       "634856  2022-05-12 08:01:18  Francisco Ave & Bloomingdale Ave   \n",
       "634857  2022-05-11 21:18:16             Clark St & Newport St   \n",
       "\n",
       "       start_station_id end_station_name end_station_id  start_lat  start_lng  \\\n",
       "0                   NaN              NaN            NaN  41.800000 -87.590000   \n",
       "1                   NaN              NaN            NaN  41.790000 -87.590000   \n",
       "2                   NaN              NaN            NaN  41.800000 -87.600000   \n",
       "3                   NaN              NaN            NaN  41.780000 -87.580000   \n",
       "4                   NaN              NaN            NaN  41.800000 -87.590000   \n",
       "...                 ...              ...            ...        ...        ...   \n",
       "634853              632              NaN            NaN  41.944557 -87.654830   \n",
       "634854              632              NaN            NaN  41.944479 -87.654758   \n",
       "634855              429              NaN            NaN  41.910000 -87.700000   \n",
       "634856              429              NaN            NaN  41.910000 -87.700000   \n",
       "634857              632              NaN            NaN  41.944567 -87.654802   \n",
       "\n",
       "        end_lat  end_lng member_casual  \n",
       "0         41.80   -87.60        member  \n",
       "1         41.80   -87.60        member  \n",
       "2         41.79   -87.59        member  \n",
       "3         41.80   -87.60        member  \n",
       "4         41.79   -87.59        member  \n",
       "...         ...      ...           ...  \n",
       "634853    41.92   -87.65        member  \n",
       "634854    41.92   -87.76        member  \n",
       "634855    41.92   -87.66        casual  \n",
       "634856    41.90   -87.69        member  \n",
       "634857    41.94   -87.65        member  \n",
       "\n",
       "[5860776 rows x 13 columns]"
      ]
     },
     "execution_count": 26,
     "metadata": {},
     "output_type": "execute_result"
    },
    {
     "name": "stdout",
     "output_type": "stream",
     "text": [
      "<class 'pandas.core.frame.DataFrame'>\n",
      "Int64Index: 5860776 entries, 0 to 634857\n",
      "Data columns (total 13 columns):\n",
      " #   Column              Dtype  \n",
      "---  ------              -----  \n",
      " 0   ride_id             object \n",
      " 1   rideable_type       object \n",
      " 2   started_at          object \n",
      " 3   ended_at            object \n",
      " 4   start_station_name  object \n",
      " 5   start_station_id    object \n",
      " 6   end_station_name    object \n",
      " 7   end_station_id      object \n",
      " 8   start_lat           float64\n",
      " 9   start_lng           float64\n",
      " 10  end_lat             float64\n",
      " 11  end_lng             float64\n",
      " 12  member_casual       object \n",
      "dtypes: float64(4), object(9)\n",
      "memory usage: 626.0+ MB\n"
     ]
    }
   ],
   "source": [
    "# Read and merge CSV files to dataframe\n",
    "df = pd.concat(map(pd.read_csv, glob.glob(\"data/*.csv\")))\n",
    "# Preview data\n",
    "df\n",
    "df.info()"
   ]
  },
  {
   "cell_type": "markdown",
   "metadata": {},
   "source": [
    "## Prepare Data\n",
    "`started_at` and `ended_at` columns were converted to datetime format to allow for easy creation of year, month, day, and day of the week columns. `day_of_week` was converted to a categorical data type to maintain the order of the days of the week. To determine the ride length, `start_at` was subtracted from `ended_at` which created a timedelta object. This was converted to seconds (a float data type) to allow for comparison integers later and creation of plots."
   ]
  },
  {
   "cell_type": "code",
   "execution_count": 27,
   "metadata": {},
   "outputs": [],
   "source": [
    "# Convert started_at and ended_at columns to DateTime format\n",
    "df['started_at'] = pd.to_datetime(df['started_at'], format = '%Y-%m-%d %H:%M:%S')\n",
    "df['ended_at'] = pd.to_datetime(df['ended_at'], format = '%Y-%m-%d %H:%M:%S')\n",
    "\n",
    "# Add columns for year, month, day, and day of the week \n",
    "df['year'] = df['started_at'].dt.year\n",
    "df['month'] = df['started_at'].dt.month_name()\n",
    "df['day'] = df['started_at'].dt.day\n",
    "df['day_of_week'] = df['started_at'].dt.day_name()\n",
    "\n",
    "# Order days of the week\n",
    "cats = ['Sunday', 'Monday', 'Tuesday', 'Wednesday', 'Thursday', 'Friday', 'Saturday']\n",
    "cat_type = CategoricalDtype(categories = cats, ordered = True)\n",
    "df['day_of_week'] = df['day_of_week'].astype(cat_type)\n",
    "# Order months\n",
    "cats2 = ['January', 'February', 'March', 'April', 'May', 'June', 'July', 'August', 'September', 'October', 'November', 'December']\n",
    "cat2_type = CategoricalDtype(categories = cats2, ordered = True)\n",
    "df['month'] = df['month'].astype(cat2_type)\n",
    "\n",
    "# Add column for ride length\n",
    "df['ride_length'] = df['ended_at'] - df['started_at']\n",
    "# Convert DateTime format to seconds\n",
    "df['ride_length'] = df['ride_length'].dt.total_seconds()"
   ]
  },
  {
   "cell_type": "markdown",
   "metadata": {},
   "source": [
    "## Clean Data\n",
    "The data was examined to confirm each row is unique (no duplicates) and within the specified date range. Values in the `member_casual` and `rideable_type` columns were evaluated to make sure there was nothing unexpected and `ride_length` was checked for negative values. \n",
    "\n",
    "Rows with missing values were dropped along with rows containing `docked_bike` and negative ride lengths. The latitude/longitude and station columns were dropped because they will not be used later. There are two 2 ways to drop rows or columns in a dataframe. One way is to use the `drop()` function or the faster way, which is to assign a filtered version of the dataframe to itself. "
   ]
  },
  {
   "cell_type": "code",
   "execution_count": 12,
   "metadata": {},
   "outputs": [
    {
     "name": "stdout",
     "output_type": "stream",
     "text": [
      "Empty DataFrame\n",
      "Columns: [ride_id, rideable_type, started_at, ended_at, start_station_name, start_station_id, end_station_name, end_station_id, start_lat, start_lng, end_lat, end_lng, member_casual, year, month, day, day_of_week, ride_length]\n",
      "Index: []\n"
     ]
    },
    {
     "data": {
      "text/plain": [
       "Timestamp('2022-05-31 23:59:56')"
      ]
     },
     "execution_count": 12,
     "metadata": {},
     "output_type": "execute_result"
    },
    {
     "data": {
      "text/plain": [
       "Timestamp('2021-06-01 00:00:38')"
      ]
     },
     "execution_count": 12,
     "metadata": {},
     "output_type": "execute_result"
    },
    {
     "data": {
      "text/plain": [
       "member    3300919\n",
       "casual    2559857\n",
       "Name: member_casual, dtype: int64"
      ]
     },
     "execution_count": 12,
     "metadata": {},
     "output_type": "execute_result"
    },
    {
     "data": {
      "text/plain": [
       "classic_bike     3217737\n",
       "electric_bike    2368592\n",
       "docked_bike       274447\n",
       "Name: rideable_type, dtype: int64"
      ]
     },
     "execution_count": 12,
     "metadata": {},
     "output_type": "execute_result"
    },
    {
     "name": "stdout",
     "output_type": "stream",
     "text": [
      "                 ride_id  rideable_type          started_at  \\\n",
      "15342   732D84DAD2CC9B73   classic_bike 2021-06-20 10:52:26   \n",
      "69360   A18D39992AA99793   classic_bike 2021-06-15 20:58:03   \n",
      "249369  126E4DA0FA0A3E11  electric_bike 2021-06-02 17:52:32   \n",
      "571909  24C4FC421D642C22   classic_bike 2021-06-28 13:18:26   \n",
      "728861  4E88151C0FBCA967   classic_bike 2021-06-28 14:56:28   \n",
      "...                  ...            ...                 ...   \n",
      "358579  F4E4485BFB33D916  electric_bike 2021-11-07 01:57:53   \n",
      "359949  B506DCD44974C575  electric_bike 2021-11-07 01:53:34   \n",
      "184212  2D97E3C98E165D80   classic_bike 2022-03-05 11:00:57   \n",
      "187389  7407049C5D89A13D  electric_bike 2022-03-05 11:38:04   \n",
      "592385  0793C9208A64302A  electric_bike 2022-05-30 11:06:29   \n",
      "\n",
      "                  ended_at                      start_station_name  \\\n",
      "15342  2021-06-20 10:52:25                    Clinton St & Polk St   \n",
      "69360  2021-06-15 20:54:51                  Broadway & Sheridan Rd   \n",
      "249369 2021-06-02 17:47:26                                     NaN   \n",
      "571909 2021-06-28 13:18:25     Mies van der Rohe Way & Chicago Ave   \n",
      "728861 2021-06-28 14:56:27                   Michigan Ave & Oak St   \n",
      "...                    ...                                     ...   \n",
      "358579 2021-11-07 01:27:02                                     NaN   \n",
      "359949 2021-11-07 01:00:42           Milwaukee Ave & Fullerton Ave   \n",
      "184212 2022-03-05 10:55:01  DuSable Lake Shore Dr & Wellington Ave   \n",
      "187389 2022-03-05 11:37:57          Sheffield Ave & Wellington Ave   \n",
      "592385 2022-05-30 11:06:17                 Broadway & Waveland Ave   \n",
      "\n",
      "       start_station_id                        end_station_name  \\\n",
      "15342             15542                    Clinton St & Polk St   \n",
      "69360             13323                  Broadway & Sheridan Rd   \n",
      "249369              NaN          Southport Ave & Wrightwood Ave   \n",
      "571909            13338     Mies van der Rohe Way & Chicago Ave   \n",
      "728861            13042                   Michigan Ave & Oak St   \n",
      "...                 ...                                     ...   \n",
      "358579              NaN                                     NaN   \n",
      "359949              428                                     NaN   \n",
      "184212     TA1307000041  DuSable Lake Shore Dr & Wellington Ave   \n",
      "187389     TA1307000052          Sheffield Ave & Wellington Ave   \n",
      "592385            13325                                     NaN   \n",
      "\n",
      "       end_station_id  start_lat  start_lng    end_lat    end_lng  \\\n",
      "15342           15542  41.871467 -87.640949  41.871467 -87.640949   \n",
      "69360           13323  41.952833 -87.649993  41.952833 -87.649993   \n",
      "249369   TA1307000113  41.930000 -87.660000  41.928752 -87.663932   \n",
      "571909          13338  41.896910 -87.621743  41.896910 -87.621743   \n",
      "728861          13042  41.900960 -87.623777  41.900960 -87.623777   \n",
      "...               ...        ...        ...        ...        ...   \n",
      "358579            NaN  41.910000 -87.720000  41.900000 -87.770000   \n",
      "359949            NaN  41.920000 -87.700000  41.910000 -87.710000   \n",
      "184212   TA1307000041  41.936688 -87.636829  41.936688 -87.636829   \n",
      "187389   TA1307000052  41.936313 -87.652522  41.936253 -87.652662   \n",
      "592385            NaN  41.949069 -87.648499  41.950000 -87.650000   \n",
      "\n",
      "       member_casual  year  month  day day_of_week  ride_length  \n",
      "15342         casual  2021      6   20      Sunday         -1.0  \n",
      "69360         casual  2021      6   15     Tuesday       -192.0  \n",
      "249369        member  2021      6    2   Wednesday       -306.0  \n",
      "571909        member  2021      6   28      Monday         -1.0  \n",
      "728861        casual  2021      6   28      Monday         -1.0  \n",
      "...              ...   ...    ...  ...         ...          ...  \n",
      "358579        casual  2021     11    7      Sunday      -1851.0  \n",
      "359949        casual  2021     11    7      Sunday      -3172.0  \n",
      "184212        casual  2022      3    5    Saturday       -356.0  \n",
      "187389        casual  2022      3    5    Saturday         -7.0  \n",
      "592385        casual  2022      5   30      Monday        -12.0  \n",
      "\n",
      "[139 rows x 18 columns]\n"
     ]
    }
   ],
   "source": [
    "# Check for duplicate rows\n",
    "df_dupes = df[df.duplicated(['ride_id'])]\n",
    "print(df_dupes)\n",
    "# Check data is within date range\n",
    "df['started_at'].max()\n",
    "df['started_at'].min()\n",
    "# Check for inconsistent data (i.e. more than 2 member types)\n",
    "df['member_casual'].value_counts()\n",
    "df['rideable_type'].value_counts()\n",
    "# Check for negative ride durations\n",
    "negative_ride_length = df[(df['ride_length'] < 0)]\n",
    "print(negative_ride_length)"
   ]
  },
  {
   "cell_type": "code",
   "execution_count": 30,
   "metadata": {},
   "outputs": [],
   "source": [
    "# Remove irrelevant columns and missing rows\n",
    "df.drop(['start_lat', 'start_lng', 'end_lat', 'end_lng', 'start_station_name', 'start_station_id', 'end_station_name', 'end_station_id'], axis = 1, inplace = True)\n",
    "df.dropna(inplace = True)\n",
    "\n",
    "# Drop rows with docked_bike or negative ride length\n",
    "df = df[(df['rideable_type'] != 'docked_bike') & (df['ride_length'] > 0)]"
   ]
  },
  {
   "cell_type": "markdown",
   "metadata": {},
   "source": [
    "## Analyze Data\n",
    "The data was summarized to look at the count, mean, median, max, and min. \n",
    "4 plots were created to compare average ride length and number of rides with days of the week and month."
   ]
  },
  {
   "cell_type": "code",
   "execution_count": 38,
   "metadata": {},
   "outputs": [
    {
     "data": {
      "text/plain": [
       "count    5.585690e+06\n",
       "mean     1.057460e+03\n",
       "std      2.672579e+03\n",
       "min      1.000000e+00\n",
       "25%      3.720000e+02\n",
       "50%      6.550000e+02\n",
       "75%      1.170000e+03\n",
       "max      9.359600e+04\n",
       "Name: ride_length, dtype: float64"
      ]
     },
     "execution_count": 38,
     "metadata": {},
     "output_type": "execute_result"
    },
    {
     "name": "stdout",
     "output_type": "stream",
     "text": [
      "day_of_week  member_casual\n",
      "Sunday       casual           1660.616250\n",
      "             member            887.714301\n",
      "Monday       casual           1463.233746\n",
      "             member            758.758714\n",
      "Tuesday      casual           1295.504703\n",
      "             member            736.766655\n",
      "Wednesday    casual           1279.173547\n",
      "             member            738.605595\n",
      "Thursday     casual           1310.325018\n",
      "             member            746.612016\n",
      "Friday       casual           1372.187195\n",
      "             member            766.992807\n",
      "Saturday     casual           1594.105067\n",
      "             member            877.462751\n",
      "Name: ride_length, dtype: float64\n"
     ]
    }
   ],
   "source": [
    "# Summary of data\n",
    "df['ride_length'].describe()\n",
    "# Group by day of week and member type, then aggregate average ride length\n",
    "df1 = df.groupby(['day_of_week', 'member_casual'])['ride_length'].mean()\n",
    "print(df1)"
   ]
  },
  {
   "cell_type": "code",
   "execution_count": 18,
   "metadata": {},
   "outputs": [
    {
     "data": {
      "text/plain": [
       "<Figure size 1080x1008 with 0 Axes>"
      ]
     },
     "execution_count": 18,
     "metadata": {},
     "output_type": "execute_result"
    },
    {
     "data": {
      "text/plain": [
       "<AxesSubplot:xlabel='day_of_week', ylabel='ride_length'>"
      ]
     },
     "execution_count": 18,
     "metadata": {},
     "output_type": "execute_result"
    },
    {
     "data": {
      "text/plain": [
       "Text(0.5, 1.0, 'Average Ride Length vs. Day of the Week')"
      ]
     },
     "execution_count": 18,
     "metadata": {},
     "output_type": "execute_result"
    },
    {
     "data": {
      "text/plain": [
       "Text(0.5, 0, 'Day of the Week')"
      ]
     },
     "execution_count": 18,
     "metadata": {},
     "output_type": "execute_result"
    },
    {
     "data": {
      "text/plain": [
       "Text(0, 0.5, 'Average Ride Length (seconds)')"
      ]
     },
     "execution_count": 18,
     "metadata": {},
     "output_type": "execute_result"
    },
    {
     "data": {
      "image/png": "[encoded data removed]",
      "text/plain": [
       "<Figure size 1080x1008 with 1 Axes>"
      ]
     },
     "metadata": {
      "needs_background": "light"
     },
     "output_type": "display_data"
    }
   ],
   "source": [
    "# Plot average ride length vs. day of the week\n",
    "plt.figure(figsize=[15, 14])\n",
    "sns.barplot(data = df, x = 'day_of_week', y = 'ride_length', hue = 'member_casual')\n",
    "plt.title('Average Ride Length vs. Day of the Week')\n",
    "plt.xlabel('Day of the Week')\n",
    "plt.ylabel('Average Ride Length (seconds)')"
   ]
  },
  {
   "cell_type": "code",
   "execution_count": 33,
   "metadata": {},
   "outputs": [
    {
     "data": {
      "text/plain": [
       "<Figure size 1080x1008 with 0 Axes>"
      ]
     },
     "execution_count": 33,
     "metadata": {},
     "output_type": "execute_result"
    },
    {
     "data": {
      "text/plain": [
       "<AxesSubplot:xlabel='day_of_week', ylabel='count'>"
      ]
     },
     "execution_count": 33,
     "metadata": {},
     "output_type": "execute_result"
    },
    {
     "data": {
      "text/plain": [
       "Text(0.5, 1.0, 'Number of Rides vs. Day of the Week')"
      ]
     },
     "execution_count": 33,
     "metadata": {},
     "output_type": "execute_result"
    },
    {
     "data": {
      "text/plain": [
       "Text(0.5, 0, 'Day of the Week')"
      ]
     },
     "execution_count": 33,
     "metadata": {},
     "output_type": "execute_result"
    },
    {
     "data": {
      "text/plain": [
       "Text(0, 0.5, 'Number of Rides')"
      ]
     },
     "execution_count": 33,
     "metadata": {},
     "output_type": "execute_result"
    },
    {
     "data": {
      "image/png": "[encoded data removed]",
      "text/plain": [
       "<Figure size 1080x1008 with 1 Axes>"
      ]
     },
     "metadata": {
      "needs_background": "light"
     },
     "output_type": "display_data"
    }
   ],
   "source": [
    "# Plot number of rides vs. day of the week\n",
    "plt.figure(figsize=[15, 14])\n",
    "sns.countplot(data = df, x = 'day_of_week', hue = 'member_casual')\n",
    "plt.title('Number of Rides vs. Day of the Week')\n",
    "plt.xlabel('Day of the Week')\n",
    "plt.ylabel('Number of Rides')"
   ]
  },
  {
   "cell_type": "code",
   "execution_count": 36,
   "metadata": {},
   "outputs": [
    {
     "data": {
      "text/plain": [
       "<Figure size 1080x1008 with 0 Axes>"
      ]
     },
     "execution_count": 36,
     "metadata": {},
     "output_type": "execute_result"
    },
    {
     "data": {
      "text/plain": [
       "<AxesSubplot:xlabel='month', ylabel='ride_length'>"
      ]
     },
     "execution_count": 36,
     "metadata": {},
     "output_type": "execute_result"
    },
    {
     "data": {
      "text/plain": [
       "Text(0.5, 1.0, 'Average Ride Length vs. Day of the Week')"
      ]
     },
     "execution_count": 36,
     "metadata": {},
     "output_type": "execute_result"
    },
    {
     "data": {
      "text/plain": [
       "Text(0.5, 0, 'Day of the Week')"
      ]
     },
     "execution_count": 36,
     "metadata": {},
     "output_type": "execute_result"
    },
    {
     "data": {
      "text/plain": [
       "Text(0, 0.5, 'Average Ride Length (seconds)')"
      ]
     },
     "execution_count": 36,
     "metadata": {},
     "output_type": "execute_result"
    },
    {
     "data": {
      "image/png": "[encoded data removed]",
      "text/plain": [
       "<Figure size 1080x1008 with 1 Axes>"
      ]
     },
     "metadata": {
      "needs_background": "light"
     },
     "output_type": "display_data"
    }
   ],
   "source": [
    "# Plot average ride length vs. month\n",
    "plt.figure(figsize=[15, 14])\n",
    "sns.barplot(data = df, x = 'month', y = 'ride_length', hue = 'member_casual')\n",
    "plt.title('Average Ride Length vs. Month')\n",
    "plt.xlabel('Month')\n",
    "plt.ylabel('Average Ride Length (seconds)')"
   ]
  },
  {
   "cell_type": "code",
   "execution_count": 37,
   "metadata": {},
   "outputs": [
    {
     "data": {
      "text/plain": [
       "<Figure size 1080x1008 with 0 Axes>"
      ]
     },
     "execution_count": 37,
     "metadata": {},
     "output_type": "execute_result"
    },
    {
     "data": {
      "text/plain": [
       "<AxesSubplot:xlabel='month', ylabel='count'>"
      ]
     },
     "execution_count": 37,
     "metadata": {},
     "output_type": "execute_result"
    },
    {
     "data": {
      "text/plain": [
       "Text(0.5, 1.0, 'Number of Rides vs. Month')"
      ]
     },
     "execution_count": 37,
     "metadata": {},
     "output_type": "execute_result"
    },
    {
     "data": {
      "text/plain": [
       "Text(0.5, 0, 'Month')"
      ]
     },
     "execution_count": 37,
     "metadata": {},
     "output_type": "execute_result"
    },
    {
     "data": {
      "text/plain": [
       "Text(0, 0.5, 'Number of Rides')"
      ]
     },
     "execution_count": 37,
     "metadata": {},
     "output_type": "execute_result"
    },
    {
     "data": {
      "image/png": "[encoded data removed]",
      "text/plain": [
       "<Figure size 1080x1008 with 1 Axes>"
      ]
     },
     "metadata": {
      "needs_background": "light"
     },
     "output_type": "display_data"
    }
   ],
   "source": [
    "# Plot number of rides vs. month\n",
    "plt.figure(figsize=[15, 14])\n",
    "sns.countplot(data = df, x = 'month', hue = 'member_casual')\n",
    "plt.title('Number of Rides vs. Month')\n",
    "plt.xlabel('Month')\n",
    "plt.ylabel('Number of Rides')"
   ]
  },
  {
   "cell_type": "markdown",
   "metadata": {},
   "source": [
    "## Interpret Data\n",
    "Insights from data:\n",
    "* The average ride duration was significant longer (almost double) for casual riders compared to annual members.\n",
    "* The number of rides was overall higher for annual members compared to casual riders.\n",
    "* The number of rides was significantly higher for casual riders on the weekend.\n",
    "* The number of rides for both annual members and casual riders were higher during the months of Spring and Summer.\n",
    "\n",
    "***\n",
    "R and Python are 2 programming languages used to analyze data. R is primarily used by scientists and researchers for statistical analysis and visualization of data, whereas Python is multipurpose and used by programmers and developers to create games or software, in addition to analyzing data. \n",
    "After completing the bike share project twice in R and Python, I think I developed preference for Python. The first thing I noticed was how much faster Python was compared to R. I used the same computer, the same data, the same functions to load and merge the data, and noticed that Python executed the code much faster than R. I also prefer the Python syntax which is simple and easier to follow. \n",
    "While working on both projects, I did a lot of research to troubleshoot issues and learn how to use packages and functions. I found it was a lot easier to find resources for Python compared to R. \n",
    "I’m sure there is a lot I still don’t know about Python and R, but if they both have the capability to carry out the functions to analyze and visualize data, I would choose Python. \n"
   ]
  }
 ],
 "metadata": {
  "kernelspec": {
   "display_name": "Python 3.10.5 64-bit",
   "language": "python",
   "name": "python3"
  },
  "language_info": {
   "codemirror_mode": {
    "name": "ipython",
    "version": 3
   },
   "file_extension": ".py",
   "mimetype": "text/x-python",
   "name": "python",
   "nbconvert_exporter": "python",
   "pygments_lexer": "ipython3",
   "version": "3.10.4"
  },
  "orig_nbformat": 4,
  "vscode": {
   "interpreter": {
    "hash": "853b99181d0ba022bad1ace1542ec9e2b21fc0c2da2392c4130ad8552760e2b5"
   }
  }
 },
 "nbformat": 4,
 "nbformat_minor": 2
}
